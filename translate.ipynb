{
 "cells": [
  {
   "cell_type": "code",
   "execution_count": 29,
   "metadata": {},
   "outputs": [],
   "source": [
    "# Please install OpenAI SDK first: `pip3 install openai`\n",
    "# Also make an account at https://platform.deepseek.com/usage and like your credit card. It should cost $1-2 per 300 pages, so dont top up too much money.\n",
    "\n",
    "from openai import OpenAI\n",
    "\n",
    "client = OpenAI(\n",
    "    api_key=\"<INSERT-YOUR-DEEPSEEK-API-KEY-HERE>\",\n",
    "    base_url=\"https://api.deepseek.com/beta\",\n",
    ")\n",
    "\n",
    "\n",
    "def translate(text):\n",
    "    response = client.chat.completions.create(\n",
    "        model=\"deepseek-chat\",\n",
    "        messages=[\n",
    "            {\n",
    "                \"role\": \"system\",\n",
    "                \"content\": \"该文字来自一本叫《历史的游荡者》的书，请将该文字翻译成英文。\",\n",
    "            },\n",
    "            {\"role\": \"user\", \"content\": text},\n",
    "        ],\n",
    "        stream=False,\n",
    "        max_tokens=8000,\n",
    "    )\n",
    "    return response.choices[0].message.content"
   ]
  },
  {
   "cell_type": "code",
   "execution_count": 2,
   "metadata": {},
   "outputs": [
    {
     "data": {
      "text/plain": [
       "248250"
      ]
     },
     "execution_count": 2,
     "metadata": {},
     "output_type": "execute_result"
    }
   ],
   "source": [
    "import os\n",
    "\n",
    "with open(\"data/Li Shi De You Dang Zhe - Li Shuo.txt\", \"r\", encoding=\"utf-8\") as file:\n",
    "    text = file.read()\n",
    "\n",
    "len(text)"
   ]
  },
  {
   "cell_type": "code",
   "execution_count": 23,
   "metadata": {},
   "outputs": [],
   "source": [
    "splits = text.split(\"\\n\" * 6)\n",
    "new_splits = []\n",
    "cur_split = \"\"\n",
    "for split in splits:\n",
    "    cur_split += split\n",
    "    if len(cur_split) >= 800:\n",
    "        new_splits.append(cur_split)\n",
    "        cur_split = \"\"\n",
    "else:\n",
    "    new_splits.append(cur_split)"
   ]
  },
  {
   "cell_type": "code",
   "execution_count": 33,
   "metadata": {},
   "outputs": [],
   "source": [
    "# [len(s) for s in new_splits]"
   ]
  },
  {
   "cell_type": "code",
   "execution_count": null,
   "metadata": {},
   "outputs": [],
   "source": [
    "def stream_translation(text):\n",
    "    stream = translate(text)\n",
    "    full_response = \"\"\n",
    "    for chunk in stream:\n",
    "        if chunk.choices[0].delta.content is not None:\n",
    "            content = chunk.choices[0].delta.content\n",
    "            print(content, end=\"\", flush=True)\n",
    "            full_response += content\n",
    "    print()  # Print a newline at the end\n",
    "    return full_response"
   ]
  },
  {
   "cell_type": "code",
   "execution_count": null,
   "metadata": {},
   "outputs": [],
   "source": []
  },
  {
   "cell_type": "code",
   "execution_count": null,
   "metadata": {},
   "outputs": [],
   "source": [
    "from concurrent.futures import ProcessPoolExecutor\n",
    "\n",
    "\n",
    "def translate_chunk(chunk):\n",
    "    return stream_translation(chunk)\n",
    "\n",
    "\n",
    "with ProcessPoolExecutor(max_workers=5) as executor:\n",
    "    translations = list(executor.map(translate_chunk, new_splits))\n",
    "\n",
    "print(translations)"
   ]
  },
  {
   "cell_type": "code",
   "execution_count": 41,
   "metadata": {},
   "outputs": [],
   "source": [
    "## Process Translated Book\n",
    "with open(\"data/Li Shi De You Dang Zhe - Li Shuo - English.md\", \"r\") as file:\n",
    "    text = file.read()\n",
    "\n",
    "splits = text.split(\"\\n\")\n",
    "new_splits = []\n",
    "for split in splits:\n",
    "    if not split.startswith(\"#\") and len(split) > 100:\n",
    "        split = \"&nbsp;&nbsp;&nbsp;&nbsp;&nbsp;&nbsp;\" + split\n",
    "    elif (\n",
    "        (not split.startswith(\"#\"))\n",
    "        and (not split.startswith(\"**\"))\n",
    "        and len(split) <= 100\n",
    "        and split.strip() != \"\"\n",
    "    ):\n",
    "        split = f\"**{split}**\"\n",
    "    new_splits.append(split)\n",
    "\n",
    "with open(\"data/Li Shi De You Dang Zhe - Li Shuo - English - 2.md\", \"w\") as file:\n",
    "    file.write(\"\\n\".join(new_splits))"
   ]
  },
  {
   "cell_type": "code",
   "execution_count": null,
   "metadata": {},
   "outputs": [],
   "source": []
  }
 ],
 "metadata": {
  "kernelspec": {
   "display_name": "base3.12.6",
   "language": "python",
   "name": "python3"
  },
  "language_info": {
   "codemirror_mode": {
    "name": "ipython",
    "version": 3
   },
   "file_extension": ".py",
   "mimetype": "text/x-python",
   "name": "python",
   "nbconvert_exporter": "python",
   "pygments_lexer": "ipython3",
   "version": "3.12.6"
  }
 },
 "nbformat": 4,
 "nbformat_minor": 2
}
